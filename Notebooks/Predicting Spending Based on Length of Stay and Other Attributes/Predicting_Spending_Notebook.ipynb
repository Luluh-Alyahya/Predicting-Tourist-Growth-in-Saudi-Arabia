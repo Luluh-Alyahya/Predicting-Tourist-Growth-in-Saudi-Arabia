{
 "cells": [
  {
   "cell_type": "markdown",
   "id": "1e469b07-02e4-4fda-a5fa-384031869083",
   "metadata": {},
   "source": [
    "# Predicting Spending Based on Length of Stay and Other Attributes "
   ]
  },
  {
   "cell_type": "markdown",
   "id": "64714a2d-77b2-4eec-be7f-1fb8bbe8243e",
   "metadata": {},
   "source": [
    "Tourism is a vital sector for many economies, and understanding the factors that influence tourist spending can help stakeholders make informed decisions. In this project, we aim to predict tourist spending based on attributes such as the purpose of visit, average length of stay, and other related factors.\n",
    "\n",
    "The dataset contains information about tourists, including their purpose of visit (e.g., business, leisure, etc.), total tourists, and average length of stay. By leveraging this data, we will build machine learning models to analyze and predict spending patterns. These predictions can be valuable for policymakers, tourism boards, and businesses to optimize resources and tailor strategies for different tourist segments."
   ]
  },
  {
   "cell_type": "markdown",
   "id": "1abea70c-359b-4be3-8a34-925ed975caad",
   "metadata": {},
   "source": [
    "## - 1 Preprocess the Data (Rename and Convert Columns)"
   ]
  },
  {
   "cell_type": "code",
   "execution_count": 4,
   "id": "3caac8ed-51f4-4f32-9e05-f0d3caed83ec",
   "metadata": {},
   "outputs": [
    {
     "data": {
      "text/html": [
       "<div>\n",
       "<style scoped>\n",
       "    .dataframe tbody tr th:only-of-type {\n",
       "        vertical-align: middle;\n",
       "    }\n",
       "\n",
       "    .dataframe tbody tr th {\n",
       "        vertical-align: top;\n",
       "    }\n",
       "\n",
       "    .dataframe thead th {\n",
       "        text-align: right;\n",
       "    }\n",
       "</style>\n",
       "<table border=\"1\" class=\"dataframe\">\n",
       "  <thead>\n",
       "    <tr style=\"text-align: right;\">\n",
       "      <th></th>\n",
       "      <th>year</th>\n",
       "      <th>Month</th>\n",
       "      <th>Religious\\n</th>\n",
       "      <th>Business\\n</th>\n",
       "      <th>Leisure</th>\n",
       "      <th>Other\\n</th>\n",
       "      <th>Visiting Friends&amp; Relatives\\n</th>\n",
       "      <th>Total\\n</th>\n",
       "      <th>Tourists Spending\\n</th>\n",
       "      <th>Average Length of Stay\\n</th>\n",
       "    </tr>\n",
       "  </thead>\n",
       "  <tbody>\n",
       "    <tr>\n",
       "      <th>0</th>\n",
       "      <td>2021</td>\n",
       "      <td>February</td>\n",
       "      <td>3</td>\n",
       "      <td>51</td>\n",
       "      <td>3</td>\n",
       "      <td>17</td>\n",
       "      <td>52</td>\n",
       "      <td>125</td>\n",
       "      <td>948</td>\n",
       "      <td>10.1</td>\n",
       "    </tr>\n",
       "    <tr>\n",
       "      <th>1</th>\n",
       "      <td>2021</td>\n",
       "      <td>March</td>\n",
       "      <td>2</td>\n",
       "      <td>67</td>\n",
       "      <td>6</td>\n",
       "      <td>24</td>\n",
       "      <td>49</td>\n",
       "      <td>148</td>\n",
       "      <td>582</td>\n",
       "      <td>10.0</td>\n",
       "    </tr>\n",
       "    <tr>\n",
       "      <th>2</th>\n",
       "      <td>2021</td>\n",
       "      <td>April</td>\n",
       "      <td>6</td>\n",
       "      <td>71</td>\n",
       "      <td>9</td>\n",
       "      <td>29</td>\n",
       "      <td>61</td>\n",
       "      <td>176</td>\n",
       "      <td>503</td>\n",
       "      <td>7.7</td>\n",
       "    </tr>\n",
       "    <tr>\n",
       "      <th>3</th>\n",
       "      <td>2021</td>\n",
       "      <td>May</td>\n",
       "      <td>7</td>\n",
       "      <td>64</td>\n",
       "      <td>12</td>\n",
       "      <td>35</td>\n",
       "      <td>67</td>\n",
       "      <td>185</td>\n",
       "      <td>801</td>\n",
       "      <td>7.9</td>\n",
       "    </tr>\n",
       "    <tr>\n",
       "      <th>4</th>\n",
       "      <td>2021</td>\n",
       "      <td>June</td>\n",
       "      <td>3</td>\n",
       "      <td>69</td>\n",
       "      <td>12</td>\n",
       "      <td>36</td>\n",
       "      <td>55</td>\n",
       "      <td>175</td>\n",
       "      <td>745</td>\n",
       "      <td>6.4</td>\n",
       "    </tr>\n",
       "  </tbody>\n",
       "</table>\n",
       "</div>"
      ],
      "text/plain": [
       "   year     Month  Religious\\n     Business\\n    Leisure    Other\\n    \\\n",
       "0  2021  February              3            51          3          17   \n",
       "1  2021     March              2            67          6          24   \n",
       "2  2021     April              6            71          9          29   \n",
       "3  2021       May              7            64         12          35   \n",
       "4  2021      June              3            69         12          36   \n",
       "\n",
       "    Visiting Friends& Relatives\\n   Total\\n   Tourists Spending\\n   \\\n",
       "0                               52       125                   948   \n",
       "1                               49       148                   582   \n",
       "2                               61       176                   503   \n",
       "3                               67       185                   801   \n",
       "4                               55       175                   745   \n",
       "\n",
       "    Average Length of Stay\\n   \n",
       "0                        10.1  \n",
       "1                        10.0  \n",
       "2                         7.7  \n",
       "3                         7.9  \n",
       "4                         6.4  "
      ]
     },
     "execution_count": 4,
     "metadata": {},
     "output_type": "execute_result"
    }
   ],
   "source": [
    "# Importing the libraries we need\n",
    "import pandas as pd\n",
    "from sklearn.model_selection import train_test_split\n",
    "from sklearn.linear_model import LinearRegression\n",
    "from sklearn.ensemble import RandomForestRegressor, GradientBoostingRegressor\n",
    "from sklearn.metrics import mean_absolute_error, mean_squared_error\n",
    "import numpy as np\n",
    "import matplotlib.pyplot as plt\n",
    "\n",
    "\n",
    "# Reading the dataset into a pandas DataFrame to explore and process it\n",
    "file_path = 'Dataset.csv'  # Replace this with your actual file path\n",
    "data = pd.read_csv(file_path)\n",
    "\n",
    "# Looking at the first few rows of the dataset to understand its structure\n",
    "data.head()\n"
   ]
  },
  {
   "cell_type": "code",
   "execution_count": 7,
   "id": "5de32d9b-6bd9-4b63-89b7-0e48d563595f",
   "metadata": {},
   "outputs": [
    {
     "name": "stdout",
     "output_type": "stream",
     "text": [
      "Processed dataset saved to Processed_Dataset.csv\n"
     ]
    }
   ],
   "source": [
    "# Renaming the columns to make them more consistent and easier to work with\n",
    "data.columns = [\n",
    "    'Year',\n",
    "    'Month',\n",
    "    'Religious',\n",
    "    'Business',\n",
    "    'Leisure',\n",
    "    'Other',\n",
    "    'Visiting_Friends_Relatives',\n",
    "    'Total_Tourists',\n",
    "    'Tourist_Spending',\n",
    "    'Avg_Length_Stay'\n",
    "]\n",
    "\n",
    "# Converting numerical columns to the correct data types and handling missing values\n",
    "numerical_cols = ['Religious', 'Business', 'Leisure', 'Other',\n",
    "                  'Visiting_Friends_Relatives', 'Total_Tourists', 'Avg_Length_Stay']\n",
    "data[numerical_cols] = data[numerical_cols].apply(pd.to_numeric, errors='coerce')\n",
    "\n",
    "# Fixing the 'Tourist_Spending' column by removing commas and converting to float\n",
    "# Ensuring 'Tourist_Spending' is treated as a string before replacing commas\n",
    "data['Tourist_Spending'] = data['Tourist_Spending'].astype(str).str.replace(',', '')\n",
    "\n",
    "# Converting 'Tourist_Spending' to float after removing commas\n",
    "data['Tourist_Spending'] = pd.to_numeric(data['Tourist_Spending'], errors='coerce')\n",
    "\n",
    "# Dropping rows with missing values to keep things simple\n",
    "data.dropna(inplace=True)\n",
    "\n",
    "\n",
    "# Dropping rows with missing values to keep things simple\n",
    "data.dropna(inplace=True)\n",
    "\n",
    "# Saving the processed dataset with cleaned data and renamed columns\n",
    "processed_file_path = 'Processed_Dataset.csv'  # Specify the desired file name\n",
    "data.to_csv(processed_file_path, index=False)\n",
    "\n",
    "print(f\"Processed dataset saved to {processed_file_path}\")\n",
    "\n"
   ]
  },
  {
   "cell_type": "markdown",
   "id": "7757bc69-36d1-4e3b-915d-34a1305bb872",
   "metadata": {},
   "source": [
    "## 2- Define Features and Target, Split the Data"
   ]
  },
  {
   "cell_type": "code",
   "execution_count": 8,
   "id": "206cbafa-39b3-4676-93df-b9a30a04ccf0",
   "metadata": {},
   "outputs": [],
   "source": [
    "# Features are the inputs to the model, and the target is what we want to predict\n",
    "X = data[['Religious', 'Business', 'Leisure', 'Other',\n",
    "          'Visiting_Friends_Relatives', 'Avg_Length_Stay']]\n",
    "y = data['Tourist_Spending']\n",
    "\n",
    "# Splitting the data into training and testing sets to evaluate the model later\n",
    "X_train, X_test, y_train, y_test = train_test_split(X, y, test_size=0.2, random_state=42)\n"
   ]
  },
  {
   "cell_type": "markdown",
   "id": "8e42fd78-2a50-4a58-807c-681274a07882",
   "metadata": {},
   "source": [
    "## 3-  Baseline Model (Linear Regression)"
   ]
  },
  {
   "cell_type": "code",
   "execution_count": 9,
   "id": "73ef8557-f351-4d54-a8cc-61c431de3dfd",
   "metadata": {},
   "outputs": [],
   "source": [
    "# Linear Regression is simple and serves as a benchmark for comparison\n",
    "baseline_model = LinearRegression()\n",
    "baseline_model.fit(X_train, y_train)\n",
    "\n",
    "# Making predictions using the baseline model\n",
    "y_pred_baseline = baseline_model.predict(X_test)\n",
    "\n",
    "# Evaluating the baseline model to see how well it performs\n",
    "baseline_mae = mean_absolute_error(y_test, y_pred_baseline)\n",
    "baseline_rmse = np.sqrt(mean_squared_error(y_test, y_pred_baseline))\n"
   ]
  },
  {
   "cell_type": "markdown",
   "id": "e97a2f45-187b-4cf1-a2ef-18d334cc580a",
   "metadata": {},
   "source": [
    "## 4- Random Forest Model"
   ]
  },
  {
   "cell_type": "code",
   "execution_count": 10,
   "id": "b1bf149e-4d74-4924-886d-588f9bd4fe72",
   "metadata": {},
   "outputs": [],
   "source": [
    "# Random Forest is a more advanced model that can capture complex patterns\n",
    "rf_model = RandomForestRegressor(random_state=42)\n",
    "rf_model.fit(X_train, y_train)\n",
    "\n",
    "# Making predictions with Random Forest\n",
    "y_pred_rf = rf_model.predict(X_test)\n",
    "\n",
    "# Evaluating Random Forest to compare with the baseline\n",
    "rf_mae = mean_absolute_error(y_test, y_pred_rf)\n",
    "rf_rmse = np.sqrt(mean_squared_error(y_test, y_pred_rf))\n"
   ]
  },
  {
   "cell_type": "markdown",
   "id": "fbe8727c-383a-44bd-83fe-bdfb077e1408",
   "metadata": {},
   "source": [
    "## 5- Gradient Boosting Model"
   ]
  },
  {
   "cell_type": "code",
   "execution_count": 11,
   "id": "3d9fe0dc-b78b-452a-8b55-3221ff277da8",
   "metadata": {},
   "outputs": [],
   "source": [
    "# Gradient Boosting is another advanced model that often performs well in regression tasks\n",
    "gb_model = GradientBoostingRegressor(random_state=42)\n",
    "gb_model.fit(X_train, y_train)\n",
    "\n",
    "# Making predictions with Gradient Boosting\n",
    "y_pred_gb = gb_model.predict(X_test)\n",
    "\n",
    "# Evaluating Gradient Boosting to see how it compares\n",
    "gb_mae = mean_absolute_error(y_test, y_pred_gb)\n",
    "gb_rmse = np.sqrt(mean_squared_error(y_test, y_pred_gb))\n"
   ]
  },
  {
   "cell_type": "markdown",
   "id": "0518ea53-b8d8-423c-83dd-99815a832c10",
   "metadata": {},
   "source": [
    "## 6- comparing models "
   ]
  },
  {
   "cell_type": "code",
   "execution_count": 13,
   "id": "046853c4-96a4-46b3-b18b-fc30e2c46dd3",
   "metadata": {},
   "outputs": [
    {
     "name": "stdout",
     "output_type": "stream",
     "text": [
      "Model Evaluation Results:\n"
     ]
    },
    {
     "data": {
      "text/html": [
       "<div>\n",
       "<style scoped>\n",
       "    .dataframe tbody tr th:only-of-type {\n",
       "        vertical-align: middle;\n",
       "    }\n",
       "\n",
       "    .dataframe tbody tr th {\n",
       "        vertical-align: top;\n",
       "    }\n",
       "\n",
       "    .dataframe thead th {\n",
       "        text-align: right;\n",
       "    }\n",
       "</style>\n",
       "<table border=\"1\" class=\"dataframe\">\n",
       "  <thead>\n",
       "    <tr style=\"text-align: right;\">\n",
       "      <th></th>\n",
       "      <th>Model</th>\n",
       "      <th>MAE</th>\n",
       "      <th>RMSE</th>\n",
       "    </tr>\n",
       "  </thead>\n",
       "  <tbody>\n",
       "    <tr>\n",
       "      <th>0</th>\n",
       "      <td>Linear Regression</td>\n",
       "      <td>2742.969896</td>\n",
       "      <td>3730.431090</td>\n",
       "    </tr>\n",
       "    <tr>\n",
       "      <th>1</th>\n",
       "      <td>Random Forest</td>\n",
       "      <td>494.823333</td>\n",
       "      <td>582.176717</td>\n",
       "    </tr>\n",
       "    <tr>\n",
       "      <th>2</th>\n",
       "      <td>Gradient Boosting</td>\n",
       "      <td>322.537268</td>\n",
       "      <td>361.066829</td>\n",
       "    </tr>\n",
       "  </tbody>\n",
       "</table>\n",
       "</div>"
      ],
      "text/plain": [
       "               Model          MAE         RMSE\n",
       "0  Linear Regression  2742.969896  3730.431090\n",
       "1      Random Forest   494.823333   582.176717\n",
       "2  Gradient Boosting   322.537268   361.066829"
      ]
     },
     "execution_count": 13,
     "metadata": {},
     "output_type": "execute_result"
    }
   ],
   "source": [
    "# Creating a table to summarize the performance of all models\n",
    "results = pd.DataFrame({\n",
    "    'Model': ['Linear Regression', 'Random Forest', 'Gradient Boosting'],\n",
    "    'MAE': [baseline_mae, rf_mae, gb_mae],\n",
    "    'RMSE': [baseline_rmse, rf_rmse, gb_rmse]\n",
    "})\n",
    "\n",
    "# Printing the results for comparison\n",
    "print(\"Model Evaluation Results:\")\n",
    "results\n"
   ]
  },
  {
   "cell_type": "code",
   "execution_count": 14,
   "id": "b8099058-3f75-4b97-955f-38753d2c74bd",
   "metadata": {},
   "outputs": [
    {
     "data": {
      "image/png": "[encoded data removed]",
      "text/plain": [
       "<Figure size 800x500 with 1 Axes>"
      ]
     },
     "metadata": {},
     "output_type": "display_data"
    }
   ],
   "source": [
    "# Plotting MAE for all models\n",
    "plt.figure(figsize=(8, 5))\n",
    "plt.bar(results['Model'], results['MAE'])\n",
    "plt.title('Mean Absolute Error (MAE) Comparison')\n",
    "plt.ylabel('MAE')\n",
    "plt.xlabel('Model')\n",
    "plt.show()\n"
   ]
  },
  {
   "cell_type": "markdown",
   "id": "3d531f2c-e461-4d28-b6b1-5c96c9333a2f",
   "metadata": {},
   "source": [
    "- Linear Regression:\n",
    "\n",
    "This model has the highest MAE, indicating that its predictions are the least accurate among the three models. The error is over 2500 units on average, which suggests that Linear Regression is not capturing the relationships in the data effectively.\n",
    "\n",
    "- Random Forest:\n",
    "\n",
    "The MAE for this model is significantly lower, around 500 units. This improvement shows that Random Forest, a more advanced and non-linear model, performs much better at handling the complexities in the dataset.\n",
    "\n",
    "- Gradient Boosting:\n",
    "\n",
    "This model has the lowest MAE, making it the most accurate among the three. The MAE is slightly below 400 units, which suggests that Gradient Boosting captures patterns and nuances in the data better than the other models."
   ]
  },
  {
   "cell_type": "code",
   "execution_count": 15,
   "id": "6ee5538d-3f52-4307-8438-2b434662aeb9",
   "metadata": {},
   "outputs": [
    {
     "data": {
      "image/png": "[encoded data removed]",
      "text/plain": [
       "<Figure size 800x500 with 1 Axes>"
      ]
     },
     "metadata": {},
     "output_type": "display_data"
    }
   ],
   "source": [
    "# Plotting RMSE for all models\n",
    "plt.figure(figsize=(8, 5))\n",
    "plt.bar(results['Model'], results['RMSE'])\n",
    "plt.title('Root Mean Squared Error (RMSE) Comparison')\n",
    "plt.ylabel('RMSE')\n",
    "plt.xlabel('Model')\n",
    "plt.show()\n"
   ]
  },
  {
   "cell_type": "markdown",
   "id": "194022ed-5c03-44d4-a25f-4e445d55e98b",
   "metadata": {},
   "source": [
    "- Linear Regression:\n",
    "\n",
    "The RMSE is the highest among all models, exceeding 3500 units.\n",
    "RMSE penalizes larger errors more heavily compared to MAE. This result highlights that Linear Regression struggles significantly with large deviations in predictions, likely due to its inability to capture complex relationships in the data.\n",
    "\n",
    "- Random Forest:\n",
    "\n",
    "The RMSE for this model is much lower, around 600 units, showing that it is better at predicting tourist spending and handles non-linear patterns more effectively than Linear Regression.\n",
    "\n",
    "- Gradient Boosting:\n",
    "\n",
    "This model has the lowest RMSE, below 400 units, making it the most accurate model in this comparison. Gradient Boosting excels at learning from errors in the data iteratively, which explains its strong performance."
   ]
  },
  {
   "cell_type": "markdown",
   "id": "35bb4e2e-2a59-45a5-b373-92b7ca7c04b2",
   "metadata": {},
   "source": [
    "## 7- Choosing the model"
   ]
  },
  {
   "cell_type": "markdown",
   "id": "cfb6e784-b47e-40fa-97ce-08615e0521f9",
   "metadata": {},
   "source": [
    "Gradient Boosting was chosen as the final model  because:\n",
    "\n",
    "- Best Performance: Gradient Boosting achieved the lowest error metrics (MAE and RMSE) among all models, indicating it makes the most accurate predictions.\n",
    "- Handles Non-linear Relationships: Tourist spending likely depends on complex and non-linear relationships among attributes like purpose of visit and length of stay. Gradient Boosting is designed to capture such patterns effectively.\n",
    "- \n",
    "- Robustness: Gradient Boosting builds models iteratively, learning from errors in previous predictions, making it robust and adaptable to different datasets."
   ]
  },
  {
   "cell_type": "code",
   "execution_count": 17,
   "id": "d72b027f-0f68-4820-9cbd-63063ab746d9",
   "metadata": {},
   "outputs": [
    {
     "name": "stdout",
     "output_type": "stream",
     "text": [
      "Model saved as gradient_boosting_model.pkl\n"
     ]
    }
   ],
   "source": [
    "import joblib\n",
    "\n",
    "# Save the Gradient Boosting model to a file\n",
    "model_file = 'gradient_boosting_model.pkl'\n",
    "joblib.dump(gb_model, model_file)\n",
    "\n",
    "print(f\"Model saved as {model_file}\")\n"
   ]
  },
  {
   "cell_type": "code",
   "execution_count": null,
   "id": "3f85f5ac-ed47-468e-b127-4404817e94ee",
   "metadata": {},
   "outputs": [],
   "source": []
  }
 ],
 "metadata": {
  "kernelspec": {
   "display_name": "Python 3 (ipykernel)",
   "language": "python",
   "name": "python3"
  },
  "language_info": {
   "codemirror_mode": {
    "name": "ipython",
    "version": 3
   },
   "file_extension": ".py",
   "mimetype": "text/x-python",
   "name": "python",
   "nbconvert_exporter": "python",
   "pygments_lexer": "ipython3",
   "version": "3.11.4"
  }
 },
 "nbformat": 4,
 "nbformat_minor": 5
}
