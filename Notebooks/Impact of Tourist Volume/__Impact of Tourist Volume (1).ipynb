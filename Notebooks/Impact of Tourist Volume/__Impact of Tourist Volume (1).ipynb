{
 "cells": [
  {
   "cell_type": "markdown",
   "id": "3f11c7a4-3663-4e37-bf11-ff565b1d1ee6",
   "metadata": {},
   "source": [
    "# ⁠Impact of Tourist Volume on Service Quality Perceptions in Saudi Arabia’s Tourist Sites\n",
    "\n",
    "--------------------------------------------------------------------------------------------\n"
   ]
  },
  {
   "cell_type": "markdown",
   "id": "87b85989-ce7f-4c7b-9c4e-d1ead8a66218",
   "metadata": {
    "jp-MarkdownHeadingCollapsed": true
   },
   "source": [
    " # 1 - train baseline linear regression model\n",
    "\n",
    " To establish a baseline for our model's performance, we'll start with a simple linear regression model. This will provide a foundation against which we can compare the results of more complex models.\n",
    "\n",
    "By training and evaluating this initial model, we'll gain insights into the minimum level of performance we can expect from our data. This knowledge will be invaluable as we iterate on our modeling process and explore more sophisticated techniques.\n",
    "\n",
    "We'll assess the performance of our linear regression model using metrics such as Mean Absolute Error (MAE) or Root Mean Squared Error (RMSE). These metrics will help us quantify the model's accuracy in predicting the target variable."
   ]
  },
  {
   "cell_type": "markdown",
   "id": "98d3d0b8-0fe5-4929-b00d-9ea1aac57d39",
   "metadata": {},
   "source": [
    "We are trying to predict service quality perceptions at tourist sites, which is represented by the target variable totalscore (or stars). This variable reflects the overall quality of service at a tourist location, and it's typically determined by customer ratings or scores."
   ]
  },
  {
   "cell_type": "markdown",
   "id": "aa0e60e1-f8f0-456a-ad73-21fef9b5f663",
   "metadata": {},
   "source": [
    "city_* and categories_*\n",
    "These are the input variables (also known as features or independent variables) that we use to predict the service quality. We chose these features because they are directly or indirectly related to tourist volume and service quality perceptions."
   ]
  },
  {
   "cell_type": "markdown",
   "id": "eeef5d8c-960c-4df9-b0dc-4343c1064d7a",
   "metadata": {},
   "source": [
    "#### Why These Features Help the Model:\n",
    "- Tourist Volume Impact: Both the city and category features are proxies for tourist volume. More tourists can lead to more crowded attractions, which may impact service quality (e.g., longer wait times, less personalized attention). These features allow the model to account for such variations.\n",
    "\n",
    "  \n",
    "- Location and Type of Tourist Site: By including city and category data, the model can differentiate between service quality perceptions based on where the tourists are and what type of attractions they are visiting. Service quality may vary depending on factors like location, facilities, and type of tourists attracted to that site."
   ]
  },
  {
   "cell_type": "markdown",
   "id": "e196876c-7f98-4f15-8c38-fa7bef5a3741",
   "metadata": {},
   "source": [
    "We'll start by selecting the relevant features and target variables, handling missing values, and preparing the data for regression."
   ]
  },
  {
   "cell_type": "code",
   "execution_count": 35,
   "id": "6cbceace-92e8-4a4f-a289-1366b851ff30",
   "metadata": {},
   "outputs": [],
   "source": [
    "import pandas as pd\n",
    "import numpy as np\n",
    "import matplotlib.pyplot as plt\n",
    "from sklearn.model_selection import train_test_split\n",
    "from sklearn.ensemble import RandomForestRegressor\n",
    "from sklearn.metrics import mean_squared_error, r2_score\n",
    "from sklearn.impute import SimpleImputer\n",
    "\n",
    "# Load the dataset\n",
    "data = pd.read_csv('ProcessedData.csv')\n",
    "\n",
    "# Step 1: Select relevant features for analysis\n",
    "# We will use the totalscore or stars as the target variable (service quality)\n",
    "target_variable = 'totalscore'  \n",
    "# Target variable (service quality)\n",
    "y = data[target_variable]  \n",
    "\n",
    "# Features related to tourist volume (city and category-related features)\n",
    "features = ['city_Dhahran', 'city_Jeddah', 'city_Riyadh', 'categories_Animal park', 'categories_Aquarium',\n",
    "            'categories_Beach', 'categories_Cultural center', 'categories_Event venue', 'categories_Historical landmark',\n",
    "            'categories_Mosque', 'categories_Park', 'categories_Resort hotel', 'categories_Restaurant', 'categories_Shopping mall',\n",
    "            'categories_Theme park', 'categories_Tourist attraction']\n",
    "\n",
    "X = data[features]  # Features related to tourist volume (city and category-related features)\n",
    "\n",
    "# Step 2: Handle missing values by imputing with the mean for both features and target\n",
    "# Impute missing values in the features (X)\n",
    "feature_imputer = SimpleImputer(strategy='mean')\n",
    "X_imputed = feature_imputer.fit_transform(X)\n",
    "\n",
    "# Impute missing values in the target (y)\n",
    "target_imputer = SimpleImputer(strategy='mean')\n",
    "y_imputed = target_imputer.fit_transform(y.values.reshape(-1, 1)).ravel()  # Reshape y to 2D and then flatten back\n",
    "\n",
    "# Step 3: Split the data into training and testing sets\n",
    "X_train, X_test, y_train, y_test = train_test_split(X_imputed, y_imputed, test_size=0.2, random_state=42)\n"
   ]
  },
  {
   "cell_type": "markdown",
   "id": "1674e036-cb67-467b-a1ce-5b00c1d0b0d4",
   "metadata": {},
   "source": [
    "### - Linear Regression:"
   ]
  },
  {
   "cell_type": "code",
   "execution_count": 36,
   "id": "9b92e59a-93cd-446c-a00b-6bad138a5090",
   "metadata": {},
   "outputs": [
    {
     "name": "stdout",
     "output_type": "stream",
     "text": [
      "Linear Regression - MSE: 0.013168292905458765, R-squared: 0.5391219340266855\n"
     ]
    }
   ],
   "source": [
    "from sklearn.linear_model import LinearRegression\n",
    "from sklearn.metrics import mean_squared_error, r2_score\n",
    "\n",
    "# Step 1: Train a Linear Regression Model\n",
    "lr_model = LinearRegression()\n",
    "lr_model.fit(X_train, y_train)\n",
    "\n",
    "# Step 2: Predict on the test set\n",
    "y_lr_pred = lr_model.predict(X_test)\n",
    "\n",
    "# Step 3: Evaluate the Linear Regression Model\n",
    "lr_mse = mean_squared_error(y_test, y_lr_pred)\n",
    "lr_r2 = r2_score(y_test, y_lr_pred)\n",
    "\n",
    "print(f\"Linear Regression - MSE: {lr_mse}, R-squared: {lr_r2}\")\n"
   ]
  },
  {
   "cell_type": "markdown",
   "id": "00179b7a-5a38-4aba-8025-e05c789c78b5",
   "metadata": {},
   "source": [
    "# 2- Model Comparison\n",
    "Once we've established a baseline with our simple linear regression model, we can embark on exploring more complex models to enhance our prediction accuracy. Decision Trees and Random Forests are powerful techniques that can capture intricate patterns within data.\n",
    "\n",
    "By constructing and evaluating these advanced models, we'll be able to gauge their performance against the baseline. We can then make informed decisions about which model is best suited for our specific task, considering factors like accuracy, interpretability, and computational efficiency."
   ]
  },
  {
   "cell_type": "markdown",
   "id": "f8f01bd0-89e4-48e9-9d2e-8066f9baa42c",
   "metadata": {},
   "source": [
    "### -  Decision Tree "
   ]
  },
  {
   "cell_type": "code",
   "execution_count": 37,
   "id": "6e2bedc6-5f15-40ee-aa76-27507c4a1d11",
   "metadata": {},
   "outputs": [
    {
     "name": "stdout",
     "output_type": "stream",
     "text": [
      "Decision Tree - MSE: 0.008390458627149993, R-squared: 0.7063417124396596\n"
     ]
    }
   ],
   "source": [
    "from sklearn.tree import DecisionTreeRegressor\n",
    "\n",
    "# Step 1: Train a Decision Tree Model\n",
    "dt_model = DecisionTreeRegressor(random_state=42)\n",
    "dt_model.fit(X_train, y_train)\n",
    "\n",
    "# Step 2: Predict on the test set\n",
    "y_dt_pred = dt_model.predict(X_test)\n",
    "\n",
    "# Step 3: Evaluate the Decision Tree Model\n",
    "dt_mse = mean_squared_error(y_test, y_dt_pred)\n",
    "dt_r2 = r2_score(y_test, y_dt_pred)\n",
    "\n",
    "print(f\"Decision Tree - MSE: {dt_mse}, R-squared: {dt_r2}\")\n"
   ]
  },
  {
   "cell_type": "markdown",
   "id": "7d75a5ea-441e-4543-ad4d-26d2dc5b73c3",
   "metadata": {},
   "source": [
    "### - Random Forest Models"
   ]
  },
  {
   "cell_type": "code",
   "execution_count": 38,
   "id": "aac9cb00-c96f-4920-bd4a-be33bd49412a",
   "metadata": {
    "scrolled": true
   },
   "outputs": [
    {
     "name": "stdout",
     "output_type": "stream",
     "text": [
      "Random Forest - MSE: 0.008403664502980041, R-squared: 0.7058795190061042\n"
     ]
    }
   ],
   "source": [
    "from sklearn.ensemble import RandomForestRegressor\n",
    "\n",
    "# Train a Random Forest Model\n",
    "rf_model = RandomForestRegressor(n_estimators=100, random_state=42)\n",
    "rf_model.fit(X_train, y_train)\n",
    "\n",
    "# Predict on the test set\n",
    "y_rf_pred = rf_model.predict(X_test)\n",
    "\n",
    "# Evaluate the Random Forest Model\n",
    "rf_mse = mean_squared_error(y_test, y_rf_pred)\n",
    "rf_r2 = r2_score(y_test, y_rf_pred)\n",
    "\n",
    "print(f\"Random Forest - MSE: {rf_mse}, R-squared: {rf_r2}\")\n"
   ]
  },
  {
   "cell_type": "markdown",
   "id": "6650d03e-39a5-4464-a6b8-27ec51ce1b83",
   "metadata": {},
   "source": [
    "# 3 - Model Selection"
   ]
  },
  {
   "cell_type": "code",
   "execution_count": 39,
   "id": "c1ca3793-22e1-4b2e-9420-79a574f77bc1",
   "metadata": {
    "scrolled": true
   },
   "outputs": [
    {
     "data": {
      "image/png": "[encoded data removed]",
      "text/plain": [
       "<Figure size 1000x600 with 3 Axes>"
      ]
     },
     "metadata": {},
     "output_type": "display_data"
    }
   ],
   "source": [
    "import matplotlib.pyplot as plt\n",
    "\n",
    "# Plot Actual vs Predicted for Linear Regression\n",
    "plt.figure(figsize=(10, 6))\n",
    "plt.subplot(1, 3, 1)\n",
    "plt.scatter(y_test, y_lr_pred, color='blue')\n",
    "plt.xlabel('Actual Values')\n",
    "plt.ylabel('Predicted Values')\n",
    "plt.title('Linear Regression: Actual vs Predicted')\n",
    "\n",
    "# Plot Actual vs Predicted for Decision Tree\n",
    "plt.subplot(1, 3, 2)\n",
    "plt.scatter(y_test, y_dt_pred, color='green')\n",
    "plt.xlabel('Actual Values')\n",
    "plt.ylabel('Predicted Values')\n",
    "plt.title('Decision Tree: Actual vs Predicted')\n",
    "\n",
    "# Plot Actual vs Predicted for Random Forest\n",
    "plt.subplot(1, 3, 3)\n",
    "plt.scatter(y_test, y_rf_pred, color='red')\n",
    "plt.xlabel('Actual Values')\n",
    "plt.ylabel('Predicted Values')\n",
    "plt.title('Random Forest: Actual vs Predicted')\n",
    "\n",
    "plt.tight_layout()\n",
    "plt.show()\n"
   ]
  },
  {
   "cell_type": "markdown",
   "id": "5f4c8702-644e-4d63-89c9-da3114cb5fe1",
   "metadata": {},
   "source": [
    "- In the left plot, the blue points represent the predicted values from the Linear Regression model. As we can see, the points are scattered and don't align closely with the diagonal line (where actual = predicted). This suggests that Linear Regression isn't a great fit for the data. The predicted values in the lower range are significantly off from the actual values, indicating that this model is struggling to capture the underlying patterns in the data.\n",
    "\n",
    "- In the middle plot, the green points represent the predictions from the Decision Tree model. Here, we see better alignment with the diagonal line, which means the Decision Tree is performing better than Linear Regression. However, the points seem to cluster around certain predicted values, suggesting that the model might be overfitting. Overfitting happens when the model learns too much from the training data, including the noise, which can affect its performance on new data.\n",
    "\n",
    "- Finally, in the right plot, the red points represent the predictions from the Random Forest model. The alignment with the diagonal is the closest among all three models, indicating that the Random Forest model is performing the best. The predictions are more accurate and consistent, which is typical for ensemble models like Random Forest, as they combine multiple decision trees to improve the accuracy and reduce overfitting."
   ]
  },
  {
   "cell_type": "code",
   "execution_count": 41,
   "id": "34657d7c-d0e0-47fb-bf57-55f3b5c5dcc8",
   "metadata": {},
   "outputs": [
    {
     "name": "stdout",
     "output_type": "stream",
     "text": [
      "Linear Regression R-squared: 0.5389624783203244\n",
      "Decision Tree R-squared: 0.7063417124396596\n",
      "Random Forest R-squared: 0.7058795190061042\n"
     ]
    }
   ],
   "source": [
    "# Compare the models' R-squared and MSE\n",
    "print(\"Linear Regression R-squared:\", r2)\n",
    "print(\"Decision Tree R-squared:\", dt_r2)\n",
    "print(\"Random Forest R-squared:\", rf_r2)\n",
    "\n"
   ]
  },
  {
   "cell_type": "code",
   "execution_count": 42,
   "id": "00e191ef-8bbf-47cf-842e-82012c640ffc",
   "metadata": {},
   "outputs": [
    {
     "name": "stdout",
     "output_type": "stream",
     "text": [
      "Linear Regression MSE: 0.0268833651086567\n",
      "Decision Tree MSE: 0.008390458627149993\n",
      "Random Forest MSE: 0.008403664502980041\n"
     ]
    }
   ],
   "source": [
    "\n",
    "print(\"Linear Regression MSE:\", mse)\n",
    "print(\"Decision Tree MSE:\", dt_mse)\n",
    "print(\"Random Forest MSE:\", rf_mse)\n"
   ]
  },
  {
   "cell_type": "markdown",
   "id": "852573cc-a175-49c0-95f2-a46836566495",
   "metadata": {},
   "source": [
    "Best Model: Based on both R-squared and MSE, Decision Tree and Random Forest perform the best, with similar performance. These models capture the non-linear relationships better than the linear regression model.\n",
    "Linear Regression: It is less effective than the other two models, but still provides a baseline for comparison."
   ]
  },
  {
   "cell_type": "markdown",
   "id": "c2532697-6ee7-4a18-9ee7-e569b1ccd97c",
   "metadata": {},
   "source": [
    "# 4 - Hyperparameter Tuning"
   ]
  },
  {
   "cell_type": "code",
   "execution_count": 43,
   "id": "c9e646ab-5099-4653-afe7-7d72beb41293",
   "metadata": {},
   "outputs": [
    {
     "name": "stdout",
     "output_type": "stream",
     "text": [
      "Best hyperparameters for Random Forest: {'max_depth': None, 'min_samples_split': 2, 'n_estimators': 100}\n",
      "Best Random Forest - Mean Squared Error: 0.008403664502980041\n",
      "Best Random Forest - R-squared: 0.7058795190061042\n"
     ]
    }
   ],
   "source": [
    "from sklearn.model_selection import GridSearchCV\n",
    "\n",
    "# Hyperparameter tuning for Random Forest\n",
    "param_grid = {\n",
    "    'n_estimators': [100, 200, 300],\n",
    "    'max_depth': [None, 10, 20, 30],\n",
    "    'min_samples_split': [2, 5, 10],\n",
    "}\n",
    "\n",
    "rf_grid_search = GridSearchCV(RandomForestRegressor(random_state=42), param_grid, cv=5)\n",
    "rf_grid_search.fit(X_train, y_train)\n",
    "\n",
    "# Best hyperparameters\n",
    "print(\"Best hyperparameters for Random Forest:\", rf_grid_search.best_params_)\n",
    "\n",
    "# Evaluate the best model\n",
    "best_rf_model = rf_grid_search.best_estimator_\n",
    "y_best_rf_pred = best_rf_model.predict(X_test)\n",
    "\n",
    "# Evaluate the best model\n",
    "best_rf_mse = mean_squared_error(y_test, y_best_rf_pred)\n",
    "best_rf_r2 = r2_score(y_test, y_best_rf_pred)\n",
    "\n",
    "print(f\"Best Random Forest - Mean Squared Error: {best_rf_mse}\")\n",
    "print(f\"Best Random Forest - R-squared: {best_rf_r2}\")\n"
   ]
  },
  {
   "cell_type": "markdown",
   "id": "9a08d78a-6f41-46c0-b639-6b6c5d066e4f",
   "metadata": {},
   "source": [
    "\n",
    "Model Evaluation shows that with the best hyperparameters, the Random Forest model has relatively low error (MSE) and explains a significant portion of the variance (R²). This makes the model suitable for predicting service quality based on tourist volume."
   ]
  },
  {
   "cell_type": "code",
   "execution_count": 27,
   "id": "286a6a50-6e17-4db0-a457-8c39a4b494e4",
   "metadata": {},
   "outputs": [
    {
     "data": {
      "text/plain": [
       "['best_random_forest_model.pkl']"
      ]
     },
     "execution_count": 27,
     "metadata": {},
     "output_type": "execute_result"
    }
   ],
   "source": [
    "import joblib\n",
    "\n",
    "# Save the best model (e.g., Random Forest) for later use\n",
    "joblib.dump(best_rf_model, 'best_random_forest_model.pkl')\n"
   ]
  }
 ],
 "metadata": {
  "kernelspec": {
   "display_name": "Python 3 (ipykernel)",
   "language": "python",
   "name": "python3"
  },
  "language_info": {
   "codemirror_mode": {
    "name": "ipython",
    "version": 3
   },
   "file_extension": ".py",
   "mimetype": "text/x-python",
   "name": "python",
   "nbconvert_exporter": "python",
   "pygments_lexer": "ipython3",
   "version": "3.11.4"
  }
 },
 "nbformat": 4,
 "nbformat_minor": 5
}
